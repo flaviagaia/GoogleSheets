{
  "nbformat": 4,
  "nbformat_minor": 0,
  "metadata": {
    "colab": {
      "name": "Manual Googlesheets.ipynb",
      "provenance": [],
      "authorship_tag": "ABX9TyNxWYUpu0XEdsh0M12nF+J+",
      "include_colab_link": true
    },
    "kernelspec": {
      "name": "python3",
      "display_name": "Python 3"
    },
    "language_info": {
      "name": "python"
    }
  },
  "cells": [
    {
      "cell_type": "markdown",
      "metadata": {
        "id": "view-in-github",
        "colab_type": "text"
      },
      "source": [
        "<a href=\"https://colab.research.google.com/github/flaviagaia/GoogleSheets/blob/main/Manual_Googlesheets.ipynb\" target=\"_parent\"><img src=\"https://colab.research.google.com/assets/colab-badge.svg\" alt=\"Open In Colab\"/></a>"
      ]
    },
    {
      "cell_type": "markdown",
      "metadata": {
        "id": "TLL8d21-yKyg"
      },
      "source": [
        "# **Chamando a planilha do drive**"
      ]
    },
    {
      "cell_type": "markdown",
      "metadata": {
        "id": "BYrMorShdmL6"
      },
      "source": [
        "https://docs.gspread.org/en/latest/\n",
        "\n",
        "https://pygsheets.readthedocs.io/en/stable/worksheet.html=\n",
        "\n",
        "https://www.youtube.com/watch?v=YaCeqXpxWUk"
      ]
    },
    {
      "cell_type": "markdown",
      "metadata": {
        "id": "LQcypesAG8l9"
      },
      "source": [
        "*  **get_all_values()** busca valores de todas as células da planilha;\n",
        "* **get()** busca todos os valores de um intervalo de células;\n",
        "* **batch_get()** pode buscar valores de vários intervalos de células com uma chamada de API;\n",
        "* **update()** permite que você atualize um intervalo de células com uma lista de listas;\n",
        "* **batch_update()** permite que você atualize vários intervalos de células com uma chamada de API;"
      ]
    },
    {
      "cell_type": "code",
      "metadata": {
        "colab": {
          "base_uri": "https://localhost:8080/"
        },
        "id": "zZO3rllAxX9l",
        "outputId": "f225274b-4759-493a-c3f6-08f165853e9c"
      },
      "source": [
        "!pip install gspread"
      ],
      "execution_count": null,
      "outputs": [
        {
          "output_type": "stream",
          "text": [
            "Requirement already satisfied: gspread in /usr/local/lib/python3.7/dist-packages (3.0.1)\n",
            "Requirement already satisfied: requests>=2.2.1 in /usr/local/lib/python3.7/dist-packages (from gspread) (2.23.0)\n",
            "Requirement already satisfied: idna<3,>=2.5 in /usr/local/lib/python3.7/dist-packages (from requests>=2.2.1->gspread) (2.10)\n",
            "Requirement already satisfied: chardet<4,>=3.0.2 in /usr/local/lib/python3.7/dist-packages (from requests>=2.2.1->gspread) (3.0.4)\n",
            "Requirement already satisfied: certifi>=2017.4.17 in /usr/local/lib/python3.7/dist-packages (from requests>=2.2.1->gspread) (2021.5.30)\n",
            "Requirement already satisfied: urllib3!=1.25.0,!=1.25.1,<1.26,>=1.21.1 in /usr/local/lib/python3.7/dist-packages (from requests>=2.2.1->gspread) (1.24.3)\n"
          ],
          "name": "stdout"
        }
      ]
    },
    {
      "cell_type": "code",
      "metadata": {
        "id": "GPYe92pVyYDQ"
      },
      "source": [
        "from google.colab import auth\n",
        "import gspread\n",
        "from oauth2client.client import GoogleCredentials"
      ],
      "execution_count": null,
      "outputs": []
    },
    {
      "cell_type": "code",
      "metadata": {
        "id": "wfVjPYjoyl0v"
      },
      "source": [
        "auth.authenticate_user()\n",
        "gc = gspread.authorize(GoogleCredentials.get_application_default())"
      ],
      "execution_count": null,
      "outputs": []
    },
    {
      "cell_type": "code",
      "metadata": {
        "id": "xx6MRRRDzReT",
        "colab": {
          "base_uri": "https://localhost:8080/"
        },
        "outputId": "d72947dd-ea03-4932-8359-ba2e94cdc1f9"
      },
      "source": [
        "# Abre uma planilha:\n",
        "planilha = gc.open(\"Planilha_presidente\")"
      ],
      "execution_count": null,
      "outputs": [
        {
          "output_type": "execute_result",
          "data": {
            "text/plain": [
              "<Spreadsheet 'Planilha_presidente' id:1H2zA5_e5sSilyycVA8YZX753QTj1Hr80vo_1ffK-KiQ>"
            ]
          },
          "metadata": {
            "tags": []
          },
          "execution_count": 9
        }
      ]
    },
    {
      "cell_type": "code",
      "metadata": {
        "id": "xYIkSLJU1qry"
      },
      "source": [
        "sheet1 = planilha.worksheet('1') # pagina 1 da planilha\n",
        "dados = sheet1.get_all_records() # chamando todos dos dados da planilha"
      ],
      "execution_count": null,
      "outputs": []
    },
    {
      "cell_type": "code",
      "metadata": {
        "colab": {
          "base_uri": "https://localhost:8080/",
          "height": 205
        },
        "id": "RIFLCdr_0hkA",
        "outputId": "ba1eda51-6adf-4f93-c1f4-c792cdc3ec04"
      },
      "source": [
        "# Jogando os dados da planilha para dentro do dataframe:\n",
        "import pandas as pd\n",
        "df = pd.DataFrame(dados)\n",
        "df"
      ],
      "execution_count": null,
      "outputs": [
        {
          "output_type": "execute_result",
          "data": {
            "text/html": [
              "<div>\n",
              "<style scoped>\n",
              "    .dataframe tbody tr th:only-of-type {\n",
              "        vertical-align: middle;\n",
              "    }\n",
              "\n",
              "    .dataframe tbody tr th {\n",
              "        vertical-align: top;\n",
              "    }\n",
              "\n",
              "    .dataframe thead th {\n",
              "        text-align: right;\n",
              "    }\n",
              "</style>\n",
              "<table border=\"1\" class=\"dataframe\">\n",
              "  <thead>\n",
              "    <tr style=\"text-align: right;\">\n",
              "      <th></th>\n",
              "      <th>Nome</th>\n",
              "      <th>Partido</th>\n",
              "      <th>Frase</th>\n",
              "    </tr>\n",
              "  </thead>\n",
              "  <tbody>\n",
              "    <tr>\n",
              "      <th>0</th>\n",
              "      <td>Jair Bolsonaro</td>\n",
              "      <td>Sem Partido</td>\n",
              "      <td>Bolsonaro terá que explicar declarações sobre ...</td>\n",
              "    </tr>\n",
              "    <tr>\n",
              "      <th>1</th>\n",
              "      <td></td>\n",
              "      <td></td>\n",
              "      <td>Presidente Jair Bolsonaro ofende repórter após...</td>\n",
              "    </tr>\n",
              "    <tr>\n",
              "      <th>2</th>\n",
              "      <td></td>\n",
              "      <td></td>\n",
              "      <td>Associação Brasileira de Imprensa pede que Bol...</td>\n",
              "    </tr>\n",
              "    <tr>\n",
              "      <th>3</th>\n",
              "      <td></td>\n",
              "      <td></td>\n",
              "      <td>Bolsonaro comemora chegada de 1,5 milhão de va...</td>\n",
              "    </tr>\n",
              "    <tr>\n",
              "      <th>4</th>\n",
              "      <td></td>\n",
              "      <td></td>\n",
              "      <td>Desaprovação ao governo Jair Bolsonaro é a mai...</td>\n",
              "    </tr>\n",
              "  </tbody>\n",
              "</table>\n",
              "</div>"
            ],
            "text/plain": [
              "             Nome  ...                                              Frase\n",
              "0  Jair Bolsonaro  ...  Bolsonaro terá que explicar declarações sobre ...\n",
              "1                  ...  Presidente Jair Bolsonaro ofende repórter após...\n",
              "2                  ...  Associação Brasileira de Imprensa pede que Bol...\n",
              "3                  ...  Bolsonaro comemora chegada de 1,5 milhão de va...\n",
              "4                  ...  Desaprovação ao governo Jair Bolsonaro é a mai...\n",
              "\n",
              "[5 rows x 3 columns]"
            ]
          },
          "metadata": {
            "tags": []
          },
          "execution_count": 7
        }
      ]
    },
    {
      "cell_type": "markdown",
      "metadata": {
        "id": "7MfP3IpMlv-H"
      },
      "source": [
        "# **Adicionando e alterando**"
      ]
    },
    {
      "cell_type": "code",
      "metadata": {
        "id": "_Sf3D_hBl1jY",
        "colab": {
          "base_uri": "https://localhost:8080/"
        },
        "outputId": "9f1846a6-3269-4772-d900-2aa453624fc6"
      },
      "source": [
        "# Seleciona a planilha pelo o nome:\n",
        "wks = gc.open('2- Planilha Automatização') \n",
        "\n",
        "# Seleciona a primeira página da planilha:\n",
        "worksheet = wks.get_worksheet(0)\n",
        "\n",
        "# Atualiza célula:\n",
        "worksheet.update_acell('A1', 'Funciona :D')\n",
        "worksheet.update('A1', [[1, 2], [3, 4]]) #intervalo\n",
        "worksheet.update_cell(1, 2, 'Bingo!') #coordenadas de linha e coluna:\n",
        "\n",
        "# Formata o cabeçalho:\n",
        "worksheet.format('A1:B1', {'textFormat': {'bold': True}})"
      ],
      "execution_count": null,
      "outputs": [
        {
          "output_type": "execute_result",
          "data": {
            "text/plain": [
              "{'spreadsheetId': '1lEF6P-TLEBVWElVfTaj4SoqFI6jHkl_cVDtUdw6Fh9w',\n",
              " 'updatedCells': 1,\n",
              " 'updatedColumns': 1,\n",
              " 'updatedRange': \"'Página1'!A1\",\n",
              " 'updatedRows': 1}"
            ]
          },
          "metadata": {
            "tags": []
          },
          "execution_count": 8
        }
      ]
    },
    {
      "cell_type": "markdown",
      "metadata": {
        "id": "_4LQ-FJIFfrQ"
      },
      "source": [
        "# **Criando de uma planilha**"
      ]
    },
    {
      "cell_type": "code",
      "metadata": {
        "id": "KaWVTSNDFjkp"
      },
      "source": [
        "sh = gc.create('Planilha nova')\n",
        "\n",
        "worksheet = sh.add_worksheet(title=\"A worksheet\", rows=\"100\", cols=\"20\")"
      ],
      "execution_count": null,
      "outputs": []
    },
    {
      "cell_type": "markdown",
      "metadata": {
        "id": "lMQmVI-RFy-V"
      },
      "source": [
        "# **Selecionando uma planilha**"
      ]
    },
    {
      "cell_type": "code",
      "metadata": {
        "id": "Rcq_zK8oF0A9"
      },
      "source": [
        "# Por índice:\n",
        "worksheet = sh.get_worksheet(0)\n",
        "\n",
        "# Por título:\n",
        "worksheet = sh.worksheet(\"January\")\n",
        "\n",
        "# Folha1:\n",
        "worksheet = sh.sheet1\n",
        "\n",
        "# Lista de todas as planilhas:\n",
        "worksheet_list = sh.worksheets()"
      ],
      "execution_count": null,
      "outputs": []
    },
    {
      "cell_type": "markdown",
      "metadata": {
        "id": "JGr_IL9EGVR-"
      },
      "source": [
        "# **Excluindo uma planilha**"
      ]
    },
    {
      "cell_type": "code",
      "metadata": {
        "id": "yw_g7WrNGUxm"
      },
      "source": [
        "sh.del_worksheet(worksheet)"
      ],
      "execution_count": null,
      "outputs": []
    },
    {
      "cell_type": "markdown",
      "metadata": {
        "id": "wOYZoKFvGZYQ"
      },
      "source": [
        "# **Obtendo um valor de célula**"
      ]
    },
    {
      "cell_type": "code",
      "metadata": {
        "id": "98AewIrXGb1C"
      },
      "source": [
        "val = worksheet.acell('B1').value\n",
        "values_list = worksheet.row_values(1) #primera linha\n",
        "values_list = worksheet.col_values(1) #primeira coluna\n",
        "list_of_dicts = worksheet.get_all_records()\n",
        "list_of_lists = worksheet.get_all_values()\n",
        "\n",
        "# Coordenadas de linha e coluna:\n",
        "\n",
        "val = worksheet.cell(1, 2).value"
      ],
      "execution_count": null,
      "outputs": []
    },
    {
      "cell_type": "markdown",
      "metadata": {
        "id": "bH_zH6IjHIHM"
      },
      "source": [
        "# **Encontrando uma célula**"
      ]
    },
    {
      "cell_type": "code",
      "metadata": {
        "id": "-URNCiuGHMBF"
      },
      "source": [
        "# Encontre uma célula que corresponda a uma string:\n",
        "cell = worksheet.find(\"Dough\")\n",
        "print(\"Found something at R%sC%s\" % (cell.row, cell.col))\n",
        "\n",
        "# Encontre uma célula que corresponda a uma expressão regular:\n",
        "amount_re = re.compile(r'(Big|Enormous) dough')\n",
        "cell = worksheet.find(amount_re)\n",
        "\n",
        "# Encontre todas as células que correspondem a uma string:\n",
        "cell_list = worksheet.findall(\"Rug store\")\n",
        "\n",
        "# Encontre todas as células que correspondem a uma regexp:\n",
        "criteria_re = re.compile(r'(Small|Room-tiering) rug')\n",
        "cell_list = worksheet.findall(criteria_re)"
      ],
      "execution_count": null,
      "outputs": []
    },
    {
      "cell_type": "markdown",
      "metadata": {
        "id": "xHbzawfEHf0A"
      },
      "source": [
        "# **Limpando uma planilha**"
      ]
    },
    {
      "cell_type": "code",
      "metadata": {
        "id": "kWFRF9VGHgE5"
      },
      "source": [
        "# Limpe um ou vários intervalos de celle de uma vez:\n",
        "worksheet.batch_clear([\"A1:B1\", \"C2:E2\", \"my_named_range\"])\n",
        "\n",
        "# Limpe todo o workshseet:\n",
        "worksheet.clear()"
      ],
      "execution_count": null,
      "outputs": []
    },
    {
      "cell_type": "markdown",
      "metadata": {
        "id": "pFr7S-i4IB88"
      },
      "source": [
        "# **Usando gspread com pandas**\n",
        "\n",
        "https://github.com/robin900/gspread-dataframe\n",
        "https://github.com/aiguofer/gspread-pandas"
      ]
    },
    {
      "cell_type": "code",
      "metadata": {
        "id": "x7XWm8IGHpsG"
      },
      "source": [
        "import pandas as pd\n",
        "\n",
        "# Joga a planilha dentro de um dataframe:\n",
        "dataframe = pd.DataFrame(worksheet.get_all_records())\n",
        "\n",
        "# Grava um dataframe em uma planilha:\n",
        "worksheet.update([dataframe.columns.values.tolist()] + dataframe.values.tolist())"
      ],
      "execution_count": null,
      "outputs": []
    },
    {
      "cell_type": "markdown",
      "metadata": {
        "id": "Aj-HcBIfIj83"
      },
      "source": [
        "# **Usando gspread com NumPy**\n",
        "\n",
        "NumPy é uma biblioteca para computação científica em Python"
      ]
    },
    {
      "cell_type": "code",
      "metadata": {
        "id": "pcr-n8zEImOC"
      },
      "source": [
        "import numpy as np\n",
        "\n",
        "# Leia o conteúdo de uma folha em uma matriz NumPy:\n",
        "array = np.array(worksheet.get_all_values())\n",
        "\n",
        "# Escreva uma matriz NumPy em uma folha:\n",
        "\n",
        "array = np.array([[1, 2, 3], [4, 5, 6]])\n",
        "worksheet.update('A2', array.tolist())"
      ],
      "execution_count": null,
      "outputs": []
    }
  ]
}